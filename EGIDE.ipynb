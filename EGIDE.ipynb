{
  "nbformat": 4,
  "nbformat_minor": 0,
  "metadata": {
    "colab": {
      "name": "EGIDE.ipynb",
      "version": "0.3.2",
      "provenance": []
    },
    "kernelspec": {
      "name": "python3",
      "display_name": "Python 3"
    },
    "accelerator": "GPU"
  },
  "cells": [
    {
      "cell_type": "code",
      "metadata": {
        "id": "EUrjEZrNVRXk",
        "colab_type": "code",
        "outputId": "644ea56f-66d8-42ca-9386-626be37a11b5",
        "colab": {
          "base_uri": "https://localhost:8080/",
          "height": 734
        }
      },
      "source": [
        "import numpy as np\n",
        "import pandas as pd\n",
        "import matplotlib.pyplot as plt\n",
        "import csv\n",
        "import sklearn\n",
        "from google.colab import drive\n",
        "from google.colab import files\n",
        "\n",
        "!pip install tensorflow\n",
        "!pip install keras\n",
        "import tensorflow as tf\n",
        "import keras\n",
        "!pip install seaborn\n",
        "\n",
        "drive.mount('/content/gdrive')"
      ],
      "execution_count": 194,
      "outputs": [
        {
          "output_type": "stream",
          "text": [
            "Requirement already satisfied: tensorflow in /usr/local/lib/python3.6/dist-packages (1.14.0)\n",
            "Requirement already satisfied: keras-applications>=1.0.6 in /usr/local/lib/python3.6/dist-packages (from tensorflow) (1.0.8)\n",
            "Requirement already satisfied: google-pasta>=0.1.6 in /usr/local/lib/python3.6/dist-packages (from tensorflow) (0.1.7)\n",
            "Requirement already satisfied: termcolor>=1.1.0 in /usr/local/lib/python3.6/dist-packages (from tensorflow) (1.1.0)\n",
            "Requirement already satisfied: grpcio>=1.8.6 in /usr/local/lib/python3.6/dist-packages (from tensorflow) (1.15.0)\n",
            "Requirement already satisfied: gast>=0.2.0 in /usr/local/lib/python3.6/dist-packages (from tensorflow) (0.2.2)\n",
            "Requirement already satisfied: absl-py>=0.7.0 in /usr/local/lib/python3.6/dist-packages (from tensorflow) (0.7.1)\n",
            "Requirement already satisfied: astor>=0.6.0 in /usr/local/lib/python3.6/dist-packages (from tensorflow) (0.8.0)\n",
            "Requirement already satisfied: six>=1.10.0 in /usr/local/lib/python3.6/dist-packages (from tensorflow) (1.12.0)\n",
            "Requirement already satisfied: protobuf>=3.6.1 in /usr/local/lib/python3.6/dist-packages (from tensorflow) (3.7.1)\n",
            "Requirement already satisfied: numpy<2.0,>=1.14.5 in /usr/local/lib/python3.6/dist-packages (from tensorflow) (1.16.4)\n",
            "Requirement already satisfied: tensorflow-estimator<1.15.0rc0,>=1.14.0rc0 in /usr/local/lib/python3.6/dist-packages (from tensorflow) (1.14.0)\n",
            "Requirement already satisfied: tensorboard<1.15.0,>=1.14.0 in /usr/local/lib/python3.6/dist-packages (from tensorflow) (1.14.0)\n",
            "Requirement already satisfied: keras-preprocessing>=1.0.5 in /usr/local/lib/python3.6/dist-packages (from tensorflow) (1.1.0)\n",
            "Requirement already satisfied: wrapt>=1.11.1 in /usr/local/lib/python3.6/dist-packages (from tensorflow) (1.11.2)\n",
            "Requirement already satisfied: wheel>=0.26 in /usr/local/lib/python3.6/dist-packages (from tensorflow) (0.33.4)\n",
            "Requirement already satisfied: h5py in /usr/local/lib/python3.6/dist-packages (from keras-applications>=1.0.6->tensorflow) (2.8.0)\n",
            "Requirement already satisfied: setuptools in /usr/local/lib/python3.6/dist-packages (from protobuf>=3.6.1->tensorflow) (41.0.1)\n",
            "Requirement already satisfied: werkzeug>=0.11.15 in /usr/local/lib/python3.6/dist-packages (from tensorboard<1.15.0,>=1.14.0->tensorflow) (0.15.5)\n",
            "Requirement already satisfied: markdown>=2.6.8 in /usr/local/lib/python3.6/dist-packages (from tensorboard<1.15.0,>=1.14.0->tensorflow) (3.1.1)\n",
            "Requirement already satisfied: keras in /usr/local/lib/python3.6/dist-packages (2.2.4)\n",
            "Requirement already satisfied: h5py in /usr/local/lib/python3.6/dist-packages (from keras) (2.8.0)\n",
            "Requirement already satisfied: scipy>=0.14 in /usr/local/lib/python3.6/dist-packages (from keras) (1.3.0)\n",
            "Requirement already satisfied: pyyaml in /usr/local/lib/python3.6/dist-packages (from keras) (3.13)\n",
            "Requirement already satisfied: keras-preprocessing>=1.0.5 in /usr/local/lib/python3.6/dist-packages (from keras) (1.1.0)\n",
            "Requirement already satisfied: numpy>=1.9.1 in /usr/local/lib/python3.6/dist-packages (from keras) (1.16.4)\n",
            "Requirement already satisfied: keras-applications>=1.0.6 in /usr/local/lib/python3.6/dist-packages (from keras) (1.0.8)\n",
            "Requirement already satisfied: six>=1.9.0 in /usr/local/lib/python3.6/dist-packages (from keras) (1.12.0)\n",
            "Requirement already satisfied: seaborn in /usr/local/lib/python3.6/dist-packages (0.9.0)\n",
            "Requirement already satisfied: matplotlib>=1.4.3 in /usr/local/lib/python3.6/dist-packages (from seaborn) (3.0.3)\n",
            "Requirement already satisfied: numpy>=1.9.3 in /usr/local/lib/python3.6/dist-packages (from seaborn) (1.16.4)\n",
            "Requirement already satisfied: scipy>=0.14.0 in /usr/local/lib/python3.6/dist-packages (from seaborn) (1.3.0)\n",
            "Requirement already satisfied: pandas>=0.15.2 in /usr/local/lib/python3.6/dist-packages (from seaborn) (0.24.2)\n",
            "Requirement already satisfied: python-dateutil>=2.1 in /usr/local/lib/python3.6/dist-packages (from matplotlib>=1.4.3->seaborn) (2.5.3)\n",
            "Requirement already satisfied: pyparsing!=2.0.4,!=2.1.2,!=2.1.6,>=2.0.1 in /usr/local/lib/python3.6/dist-packages (from matplotlib>=1.4.3->seaborn) (2.4.0)\n",
            "Requirement already satisfied: cycler>=0.10 in /usr/local/lib/python3.6/dist-packages (from matplotlib>=1.4.3->seaborn) (0.10.0)\n",
            "Requirement already satisfied: kiwisolver>=1.0.1 in /usr/local/lib/python3.6/dist-packages (from matplotlib>=1.4.3->seaborn) (1.1.0)\n",
            "Requirement already satisfied: pytz>=2011k in /usr/local/lib/python3.6/dist-packages (from pandas>=0.15.2->seaborn) (2018.9)\n",
            "Requirement already satisfied: six>=1.5 in /usr/local/lib/python3.6/dist-packages (from python-dateutil>=2.1->matplotlib>=1.4.3->seaborn) (1.12.0)\n",
            "Requirement already satisfied: setuptools in /usr/local/lib/python3.6/dist-packages (from kiwisolver>=1.0.1->matplotlib>=1.4.3->seaborn) (41.0.1)\n",
            "Drive already mounted at /content/gdrive; to attempt to forcibly remount, call drive.mount(\"/content/gdrive\", force_remount=True).\n"
          ],
          "name": "stdout"
        }
      ]
    },
    {
      "cell_type": "markdown",
      "metadata": {
        "id": "_c5OJb4aVkND",
        "colab_type": "text"
      },
      "source": [
        "Cargo el Data set\n"
      ]
    },
    {
      "cell_type": "code",
      "metadata": {
        "id": "EKiEyKtGVk8-",
        "colab_type": "code",
        "colab": {}
      },
      "source": [
        "df=pd.read_pickle('gdrive/My Drive/banquito.pkl')\n"
      ],
      "execution_count": 0,
      "outputs": []
    },
    {
      "cell_type": "markdown",
      "metadata": {
        "id": "GYoWNi_NVsp4",
        "colab_type": "text"
      },
      "source": [
        "Remuevo las filas con datos faltantes, la columna de la duracion de la llamada y reindexo los datos"
      ]
    },
    {
      "cell_type": "code",
      "metadata": {
        "id": "JCyOqtaBVpYS",
        "colab_type": "code",
        "colab": {}
      },
      "source": [
        "df= df.replace(to_replace ='unknown', value =np.nan, regex = True) \n",
        "df=df.drop([10],axis=1)\n",
        "df = df.T.reset_index(drop=True).T\n",
        "df=df.dropna()\n",
        "df = df.reset_index(drop=True)\n",
        "\n"
      ],
      "execution_count": 0,
      "outputs": []
    },
    {
      "cell_type": "markdown",
      "metadata": {
        "id": "QFpPxtvkVzgM",
        "colab_type": "text"
      },
      "source": [
        "Separo los Datos en X (entradas), Y(salidas)\n"
      ]
    },
    {
      "cell_type": "code",
      "metadata": {
        "id": "HdjYNb_SV0Zf",
        "colab_type": "code",
        "colab": {}
      },
      "source": [
        "X=df.iloc[:,0:19]\n",
        "Y=df.iloc[:,19]\n",
        "\n"
      ],
      "execution_count": 0,
      "outputs": []
    },
    {
      "cell_type": "markdown",
      "metadata": {
        "id": "g_0oleiQV28O",
        "colab_type": "text"
      },
      "source": [
        "Paso las variables categorias a numeros"
      ]
    },
    {
      "cell_type": "code",
      "metadata": {
        "id": "79BP_CV5V6E8",
        "colab_type": "code",
        "outputId": "470551ed-2fd5-4bfc-8f38-a26c781710f2",
        "colab": {
          "base_uri": "https://localhost:8080/",
          "height": 221
        }
      },
      "source": [
        "from sklearn import preprocessing\n",
        "le=preprocessing.LabelEncoder()\n",
        "varcat=[1,2,3,4,5,6,7,8,9,13]\n",
        "for i in range(len(varcat)):\n",
        "  X.iloc[:,varcat[i]]=le.fit_transform(X.iloc[:,varcat[i]])\n",
        "\n",
        "Y=pd.DataFrame(le.fit_transform(Y))\n",
        "\n"
      ],
      "execution_count": 198,
      "outputs": [
        {
          "output_type": "stream",
          "text": [
            "/usr/local/lib/python3.6/dist-packages/pandas/core/indexing.py:635: SettingWithCopyWarning: \n",
            "A value is trying to be set on a copy of a slice from a DataFrame.\n",
            "Try using .loc[row_indexer,col_indexer] = value instead\n",
            "\n",
            "See the caveats in the documentation: http://pandas.pydata.org/pandas-docs/stable/indexing.html#indexing-view-versus-copy\n",
            "  self.obj[item_labels[indexer[info_axis]]] = value\n",
            "/usr/local/lib/python3.6/dist-packages/pandas/core/indexing.py:543: SettingWithCopyWarning: \n",
            "A value is trying to be set on a copy of a slice from a DataFrame.\n",
            "Try using .loc[row_indexer,col_indexer] = value instead\n",
            "\n",
            "See the caveats in the documentation: http://pandas.pydata.org/pandas-docs/stable/indexing.html#indexing-view-versus-copy\n",
            "  self.obj[item] = s\n"
          ],
          "name": "stderr"
        }
      ]
    },
    {
      "cell_type": "markdown",
      "metadata": {
        "id": "Gkna_cofWQxS",
        "colab_type": "text"
      },
      "source": [
        "Re escalo el data set X"
      ]
    },
    {
      "cell_type": "code",
      "metadata": {
        "id": "a8qbncuQWL49",
        "colab_type": "code",
        "colab": {}
      },
      "source": [
        "X=X.apply(lambda x: (x - np.max(x)) / (np.max(x)-np.min(x)))\n"
      ],
      "execution_count": 0,
      "outputs": []
    },
    {
      "cell_type": "code",
      "metadata": {
        "id": "V97E8QFzXytl",
        "colab_type": "code",
        "outputId": "b2f7ce57-e12e-42cb-b541-e078492e40d3",
        "colab": {
          "base_uri": "https://localhost:8080/",
          "height": 1000
        }
      },
      "source": [
        "from sklearn.model_selection import train_test_split #separo los datos en entrenamiento y testeo\n",
        "X_train, X_test, y_train, y_test = train_test_split(X, Y, test_size=0.2,random_state=0)\n",
        "\n",
        "from keras.models import Sequential\n",
        "from keras.layers import Dense\n",
        "\n",
        "classifier = Sequential()# estructura de la red neuronal\n",
        "classifier.add(Dense(units=19,activation = 'relu', input_dim=19))\n",
        "classifier.add(Dense(units=9,activation = 'relu'))\n",
        "classifier.add(Dense(units=3,activation = 'relu'))\n",
        "classifier.add(Dense(units=1,activation = 'sigmoid'))\n",
        "\n",
        "\n",
        "\n",
        "classifier.compile(optimizer = 'Adam', loss='mean_squared_error', metrics=['accuracy','mean_squared_error'])#compilo utilizando el algoritmo Adam como optimizador, y el error cuadratico medio como funcion de costo\n",
        "early_stop = keras.callbacks.EarlyStopping(monitor='val_loss', patience=10)# en caso de que durante 10 epocas seguidas no hubiere dismincucion de validation loss el algoritmo frena su ejecucion\n",
        "history=classifier.fit(X_train,y_train,epochs=700, batch_size=1500,validation_split=0.2, verbose=0,callbacks=[early_stop])# Corro el modelo, por un maximo de 700 epocas, y con un batch size de 1500. Se utiliza un set de validacion para monitorear el entrenamiento\n",
        "\n",
        "Ypred=classifier.predict(X_test)# prediccion sobre el set de testeo\n",
        "\n",
        "\n",
        " #grafico de los errores cuadratico medio de entrenamiento y validacion por epoca\n",
        "hist = pd.DataFrame(history.history)\n",
        "hist['epoch'] = history.epoch\n",
        "\n",
        "c=plt.figure()\n",
        "plt.xlabel('Epocas')\n",
        "plt.ylabel('Error cuadratico medio')\n",
        "plt.plot(hist['epoch'], hist['mean_squared_error'],label='Error Entrenamiento',linewidth=3)\n",
        "plt.plot(hist['epoch'], hist['val_mean_squared_error'],label = 'Error Validacion',linewidth=3,color='k')\n",
        "plt.legend()\n",
        "#c.savefig('errorsinNANsin10.png')\n",
        "#files.download('errorsinNANsin10.png')\n",
        "plt.show()\n",
        "\n",
        "\n",
        "import seaborn as sns #matriz de confusion con un umbral de 0.5\n",
        "from sklearn.metrics import confusion_matrix\n",
        "Ypred05=[1 if y>=0.5 else 0 for y in Ypred]\n",
        "cf=confusion_matrix(y_test,Ypred05)\n",
        "cm = cf\n",
        "# Transform to df for easier plotting\n",
        "cm_df = pd.DataFrame(cm,\n",
        "                     index = ['Si','No'], \n",
        "                     columns = ['Si','No'])\n",
        "\n",
        "b=plt.figure(figsize=(5.5,4))\n",
        "sns.heatmap(cm_df, annot=True,fmt=\"d\", linewidths=.5,cbar=False)\n",
        "plt.ylabel('Valores Reales')\n",
        "plt.xlabel('Valores Predichos')\n",
        "#b.savefig('ConfusionsinNANsin10.png')\n",
        "#files.download('ConfusionsinNANsin10.png')\n",
        "plt.show()\n",
        "\n",
        "import sklearn.metrics as metrics #curva de caracteristicas operativa del receptor, grafica la sensibilidad frente a la especificidad\n",
        "fpr, tpr, thresholds = metrics.roc_curve(y_test, Ypred)\n",
        "roc_auc = metrics.roc_auc_score(y_test, Ypred)\n",
        "a=plt.figure()\n",
        "plt.plot(fpr, tpr, 'b', linewidth=3, label = 'ROC, area debajo de la curva = %0.2f' % roc_auc)\n",
        "plt.plot(1-(1-fpr[thresholds>0.5][-1]),tpr[thresholds>0.5][-1],'ko',markersize=8,label='Umbral de 0.5')\n",
        "plt.legend(loc = 'lower right')\n",
        "plt.plot([0, 1], [0, 1],'r--')\n",
        "plt.xlim([0, 1])\n",
        "plt.ylim([0, 1])\n",
        "plt.ylabel('Tasa de VP (Sensibilidad)')\n",
        "plt.xlabel('Tasa de FP (1-Especificidad)')\n",
        "#a.savefig('ROCsinNANsin10.png')\n",
        "#files.download('ROCsinNANsin10.png')\n",
        "plt.show()\n",
        "\n",
        "hist = pd.DataFrame(history.history)#muestra las metricas de las ultimas epocas\n",
        "hist['epoch'] = history.epoch\n",
        "hist.tail()"
      ],
      "execution_count": 200,
      "outputs": [
        {
          "output_type": "display_data",
          "data": {
            "image/png": "[encoded data removed]",
            "text/plain": [
              "<Figure size 432x288 with 1 Axes>"
            ]
          },
          "metadata": {
            "tags": []
          }
        },
        {
          "output_type": "display_data",
          "data": {
            "image/png": "[encoded data removed]",
            "text/plain": [
              "<Figure size 396x288 with 1 Axes>"
            ]
          },
          "metadata": {
            "tags": []
          }
        },
        {
          "output_type": "display_data",
          "data": {
            "image/png": "[encoded data removed]",
            "text/plain": [
              "<Figure size 432x288 with 1 Axes>"
            ]
          },
          "metadata": {
            "tags": []
          }
        },
        {
          "output_type": "execute_result",
          "data": {
            "text/html": [
              "<div>\n",
              "<style scoped>\n",
              "    .dataframe tbody tr th:only-of-type {\n",
              "        vertical-align: middle;\n",
              "    }\n",
              "\n",
              "    .dataframe tbody tr th {\n",
              "        vertical-align: top;\n",
              "    }\n",
              "\n",
              "    .dataframe thead th {\n",
              "        text-align: right;\n",
              "    }\n",
              "</style>\n",
              "<table border=\"1\" class=\"dataframe\">\n",
              "  <thead>\n",
              "    <tr style=\"text-align: right;\">\n",
              "      <th></th>\n",
              "      <th>val_loss</th>\n",
              "      <th>val_acc</th>\n",
              "      <th>val_mean_squared_error</th>\n",
              "      <th>loss</th>\n",
              "      <th>acc</th>\n",
              "      <th>mean_squared_error</th>\n",
              "      <th>epoch</th>\n",
              "    </tr>\n",
              "  </thead>\n",
              "  <tbody>\n",
              "    <tr>\n",
              "      <th>108</th>\n",
              "      <td>0.085382</td>\n",
              "      <td>0.891566</td>\n",
              "      <td>0.085382</td>\n",
              "      <td>0.086286</td>\n",
              "      <td>0.891319</td>\n",
              "      <td>0.086286</td>\n",
              "      <td>108</td>\n",
              "    </tr>\n",
              "    <tr>\n",
              "      <th>109</th>\n",
              "      <td>0.085358</td>\n",
              "      <td>0.891807</td>\n",
              "      <td>0.085358</td>\n",
              "      <td>0.086286</td>\n",
              "      <td>0.890295</td>\n",
              "      <td>0.086286</td>\n",
              "      <td>109</td>\n",
              "    </tr>\n",
              "    <tr>\n",
              "      <th>110</th>\n",
              "      <td>0.085358</td>\n",
              "      <td>0.891566</td>\n",
              "      <td>0.085358</td>\n",
              "      <td>0.086270</td>\n",
              "      <td>0.891018</td>\n",
              "      <td>0.086270</td>\n",
              "      <td>110</td>\n",
              "    </tr>\n",
              "    <tr>\n",
              "      <th>111</th>\n",
              "      <td>0.085377</td>\n",
              "      <td>0.891084</td>\n",
              "      <td>0.085377</td>\n",
              "      <td>0.086335</td>\n",
              "      <td>0.891439</td>\n",
              "      <td>0.086335</td>\n",
              "      <td>111</td>\n",
              "    </tr>\n",
              "    <tr>\n",
              "      <th>112</th>\n",
              "      <td>0.085555</td>\n",
              "      <td>0.891325</td>\n",
              "      <td>0.085555</td>\n",
              "      <td>0.086677</td>\n",
              "      <td>0.889813</td>\n",
              "      <td>0.086677</td>\n",
              "      <td>112</td>\n",
              "    </tr>\n",
              "  </tbody>\n",
              "</table>\n",
              "</div>"
            ],
            "text/plain": [
              "     val_loss   val_acc  ...  mean_squared_error  epoch\n",
              "108  0.085382  0.891566  ...            0.086286    108\n",
              "109  0.085358  0.891807  ...            0.086286    109\n",
              "110  0.085358  0.891566  ...            0.086270    110\n",
              "111  0.085377  0.891084  ...            0.086335    111\n",
              "112  0.085555  0.891325  ...            0.086677    112\n",
              "\n",
              "[5 rows x 7 columns]"
            ]
          },
          "metadata": {
            "tags": []
          },
          "execution_count": 200
        }
      ]
    },
    {
      "cell_type": "markdown",
      "metadata": {
        "id": "DYmRZDr65RHT",
        "colab_type": "text"
      },
      "source": [
        "Ahora no descarto los datos de la llamada, entrante o saliente.\n",
        "Sigo descartando los valores desconocidos"
      ]
    },
    {
      "cell_type": "code",
      "metadata": {
        "id": "eF8nOWI35g7R",
        "colab_type": "code",
        "colab": {}
      },
      "source": [
        "df=pd.read_pickle('gdrive/My Drive/banquito.pkl')\n",
        "\n",
        "df= df.replace(to_replace ='unknown', value =np.nan, regex = True) \n",
        "df=df.dropna()\n",
        "df = df.reset_index(drop=True)\n",
        "\n",
        "X=df.iloc[:,0:20]\n",
        "Y=df.iloc[:,20]\n",
        "\n",
        "from sklearn import preprocessing\n",
        "le=preprocessing.LabelEncoder()\n",
        "varcat=[1,2,3,4,5,6,7,8,9,14]\n",
        "for i in range(len(varcat)):\n",
        "  X.iloc[:,varcat[i]]=le.fit_transform(X.iloc[:,varcat[i]])\n",
        "\n",
        "Y=pd.DataFrame(le.fit_transform(Y))\n",
        "\n",
        "X=X.apply(lambda x: (x - np.max(x)) / (np.max(x)-np.min(x)))\n",
        "\n",
        "from sklearn.model_selection import train_test_split\n",
        "X_train, X_test, y_train, y_test = train_test_split(X, Y, test_size=0.2,random_state=0)\n",
        "\n",
        "from keras.models import Sequential\n",
        "from keras.layers import Dense\n",
        "\n",
        "classifier = Sequential()\n",
        "classifier.add(Dense(units=20,activation = 'relu', input_dim=20))\n",
        "classifier.add(Dense(units=9,activation = 'relu'))\n",
        "classifier.add(Dense(units=3,activation = 'relu'))\n",
        "classifier.add(Dense(units=1,activation = 'sigmoid'))\n",
        "\n",
        "\n",
        "\n",
        "classifier.compile(optimizer = 'Adam', loss='mean_squared_error', metrics=['accuracy','mean_squared_error'])\n",
        "early_stop = keras.callbacks.EarlyStopping(monitor='val_loss', patience=10)\n",
        "history=classifier.fit(X_train,y_train,epochs=700, batch_size=1000,validation_split=0.2, verbose=0,callbacks=[early_stop])\n",
        "\n",
        "Ypred=classifier.predict(X_test)\n",
        "plt.plot(Ypred,'*')\n",
        "\n",
        "\n",
        "hist = pd.DataFrame(history.history)\n",
        "hist['epoch'] = history.epoch\n",
        "\n",
        "c=plt.figure()\n",
        "plt.xlabel('Epocas')\n",
        "plt.ylabel('Error cuadratico medio')\n",
        "plt.plot(hist['epoch'], hist['mean_squared_error'],label='Error Entrenamiento',linewidth=3)\n",
        "plt.plot(hist['epoch'], hist['val_mean_squared_error'],label = 'Error Validacion',linewidth=3,color='k')\n",
        "plt.legend()\n",
        "#c.savefig('erroressinNANcon10.png')\n",
        "#files.download('erroressinNANcon10.png')\n",
        "plt.show()\n",
        "\n",
        "\n",
        "\n",
        "import seaborn as sns\n",
        "from sklearn.metrics import confusion_matrix\n",
        "Ypred05=[1 if y>=0.5 else 0 for y in Ypred]\n",
        "cf=confusion_matrix(y_test,Ypred05)\n",
        "cm = cf\n",
        "# Transform to df for easier plotting\n",
        "cm_df = pd.DataFrame(cm,\n",
        "                     index = ['Si','No'], \n",
        "                     columns = ['Si','No'])\n",
        "\n",
        "b=plt.figure(figsize=(5.5,4))\n",
        "sns.heatmap(cm_df, annot=True,fmt=\"d\", linewidths=.5,cbar=False)\n",
        "plt.ylabel('Valores Reales')\n",
        "plt.xlabel('Valores Predichos')\n",
        "#b.savefig('ConfusionsinNANcon10.png')\n",
        "#files.download('ConfusionsinNANcon10.png')\n",
        "plt.show()\n",
        "\n",
        "\n",
        "import sklearn.metrics as metrics\n",
        "fpr, tpr, thresholds = metrics.roc_curve(y_test, Ypred)\n",
        "roc_auc = metrics.roc_auc_score(y_test, Ypred)\n",
        "a=plt.figure()\n",
        "plt.plot(fpr, tpr, 'b', linewidth=3, label = 'ROC, area debajo de la curva = %0.2f' % roc_auc)\n",
        "plt.plot(1-(1-fpr[thresholds>0.5][-1]),tpr[thresholds>0.5][-1],'ko',markersize=8,label='Umbral de 0.5')\n",
        "plt.legend(loc = 'lower right')\n",
        "plt.plot([0, 1], [0, 1],'r--')\n",
        "plt.xlim([0, 1])\n",
        "plt.ylim([0, 1])\n",
        "plt.ylabel('Tasa de VP (Sensibilidad)')\n",
        "plt.xlabel('Tasa de FP (1-Especificidad)')\n",
        "#a.savefig('ROCsinNANcon10.png')\n",
        "#files.download('ROCsinNANcon10.png')\n",
        "plt.show()\n",
        "\n",
        "\n",
        "\n",
        "\n",
        "hist = pd.DataFrame(history.history)\n",
        "hist['epoch'] = history.epoch\n",
        "hist.tail()"
      ],
      "execution_count": 0,
      "outputs": []
    },
    {
      "cell_type": "markdown",
      "metadata": {
        "id": "fHVPEeCOAXF9",
        "colab_type": "text"
      },
      "source": [
        "Repito pero ahora quitando la informacion de la duracion de la llamada y dejando los valores desconocidos. "
      ]
    },
    {
      "cell_type": "code",
      "metadata": {
        "id": "fD-i-QZ49F4U",
        "colab_type": "code",
        "colab": {
          "base_uri": "https://localhost:8080/",
          "height": 1000
        },
        "outputId": "1d0fb693-35a8-4fec-dbe2-f6e24597435f"
      },
      "source": [
        "df=pd.read_pickle('gdrive/My Drive/banquito.pkl')\n",
        "\n",
        "df=df.drop([10],axis=1)\n",
        "df = df.T.reset_index(drop=True).T\n",
        "\n",
        "X=df.iloc[:,0:19]\n",
        "Y=df.iloc[:,19]\n",
        "\n",
        "from sklearn import preprocessing\n",
        "le=preprocessing.LabelEncoder()\n",
        "varcat=[1,2,3,4,5,6,7,8,9,13]\n",
        "for i in range(len(varcat)):\n",
        "  X.iloc[:,varcat[i]]=le.fit_transform(X.iloc[:,varcat[i]])\n",
        "\n",
        "Y=pd.DataFrame(le.fit_transform(Y))\n",
        "\n",
        "X=X.apply(lambda x: (x - np.max(x)) / (np.max(x)-np.min(x)))\n",
        "\n",
        "from sklearn.model_selection import train_test_split\n",
        "X_train, X_test, y_train, y_test = train_test_split(X, Y, test_size=0.2,random_state=0)\n",
        "\n",
        "from keras.models import Sequential\n",
        "from keras.layers import Dense\n",
        "\n",
        "classifier = Sequential()\n",
        "classifier.add(Dense(units=19,activation = 'relu', input_dim=19))\n",
        "classifier.add(Dense(units=9,activation = 'relu'))\n",
        "classifier.add(Dense(units=3,activation = 'relu'))\n",
        "classifier.add(Dense(units=1,activation = 'sigmoid'))\n",
        "\n",
        "\n",
        "\n",
        "classifier.compile(optimizer = 'Adam', loss='mean_squared_error', metrics=['accuracy','mean_squared_error'])\n",
        "early_stop = keras.callbacks.EarlyStopping(monitor='val_loss', patience=10)\n",
        "history=classifier.fit(X_train,y_train,epochs=700, batch_size=1500,validation_split=0.2, verbose=0,callbacks=[early_stop])\n",
        "\n",
        "Ypred=classifier.predict(X_test)\n",
        "\n",
        "\n",
        "hist = pd.DataFrame(history.history)\n",
        "hist['epoch'] = history.epoch\n",
        "\n",
        "c=plt.figure()\n",
        "plt.xlabel('Epocas')\n",
        "plt.ylabel('Error cuadratico medio')\n",
        "plt.plot(hist['epoch'], hist['mean_squared_error'],label='Error Entrenamiento',linewidth=3)\n",
        "plt.plot(hist['epoch'], hist['val_mean_squared_error'],label = 'Error Validacion',linewidth=3,color='k')\n",
        "plt.legend()\n",
        "#c.savefig('errorconNANsin10.png')\n",
        "#files.download('errorconNANsin10.png')\n",
        "plt.show()\n",
        "\n",
        "\n",
        "\n",
        "import seaborn as sns\n",
        "from sklearn.metrics import confusion_matrix\n",
        "Ypred05=[1 if y>=0.5 else 0 for y in Ypred]\n",
        "cf=confusion_matrix(y_test,Ypred05)\n",
        "cm = cf\n",
        "# Transform to df for easier plotting\n",
        "cm_df = pd.DataFrame(cm,\n",
        "                     index = ['Si','No'], \n",
        "                     columns = ['Si','No'])\n",
        "\n",
        "b=plt.figure(figsize=(5.5,4))\n",
        "sns.heatmap(cm_df, annot=True,fmt=\"d\", linewidths=.5,cbar=False)\n",
        "plt.ylabel('Valores Reales')\n",
        "plt.xlabel('Valores Predichos')\n",
        "#b.savefig('ConfusionconNANsin10.png')\n",
        "#files.download('ConfusionconNANsin10.png')\n",
        "plt.show()\n",
        "\n",
        "\n",
        "import sklearn.metrics as metrics\n",
        "fpr, tpr, thresholds = metrics.roc_curve(y_test, Ypred)\n",
        "roc_auc = metrics.roc_auc_score(y_test, Ypred)\n",
        "a=plt.figure()\n",
        "plt.plot(fpr, tpr, 'b', linewidth=3, label = 'ROC, area debajo de la curva = %0.2f' % roc_auc)\n",
        "plt.plot(1-(1-fpr[thresholds>0.5][-1]),tpr[thresholds>0.5][-1],'ko',markersize=8,label='Umbral de 0.5')\n",
        "plt.legend(loc = 'lower right')\n",
        "plt.plot([0, 1], [0, 1],'r--')\n",
        "plt.xlim([0, 1])\n",
        "plt.ylim([0, 1])\n",
        "plt.ylabel('Tasa de VP (Sensibilidad)')\n",
        "plt.xlabel('Tasa de FP (1-Especificidad)')\n",
        "#a.savefig('ROCconNANsin10.png')\n",
        "#files.download('ROCconNANsin10.png')\n",
        "plt.show()\n",
        "\n",
        "\n",
        "hist = pd.DataFrame(history.history)\n",
        "hist['epoch'] = history.epoch\n",
        "hist.tail()"
      ],
      "execution_count": 202,
      "outputs": [
        {
          "output_type": "stream",
          "text": [
            "/usr/local/lib/python3.6/dist-packages/pandas/core/indexing.py:635: SettingWithCopyWarning: \n",
            "A value is trying to be set on a copy of a slice from a DataFrame.\n",
            "Try using .loc[row_indexer,col_indexer] = value instead\n",
            "\n",
            "See the caveats in the documentation: http://pandas.pydata.org/pandas-docs/stable/indexing.html#indexing-view-versus-copy\n",
            "  self.obj[item_labels[indexer[info_axis]]] = value\n",
            "/usr/local/lib/python3.6/dist-packages/pandas/core/indexing.py:543: SettingWithCopyWarning: \n",
            "A value is trying to be set on a copy of a slice from a DataFrame.\n",
            "Try using .loc[row_indexer,col_indexer] = value instead\n",
            "\n",
            "See the caveats in the documentation: http://pandas.pydata.org/pandas-docs/stable/indexing.html#indexing-view-versus-copy\n",
            "  self.obj[item] = s\n"
          ],
          "name": "stderr"
        },
        {
          "output_type": "display_data",
          "data": {
            "image/png": "[encoded data removed]",
            "text/plain": [
              "<Figure size 432x288 with 1 Axes>"
            ]
          },
          "metadata": {
            "tags": []
          }
        },
        {
          "output_type": "display_data",
          "data": {
            "image/png": "[encoded data removed]",
            "text/plain": [
              "<Figure size 396x288 with 1 Axes>"
            ]
          },
          "metadata": {
            "tags": []
          }
        },
        {
          "output_type": "display_data",
          "data": {
            "image/png": "[encoded data removed]",
            "text/plain": [
              "<Figure size 432x288 with 1 Axes>"
            ]
          },
          "metadata": {
            "tags": []
          }
        },
        {
          "output_type": "execute_result",
          "data": {
            "text/html": [
              "<div>\n",
              "<style scoped>\n",
              "    .dataframe tbody tr th:only-of-type {\n",
              "        vertical-align: middle;\n",
              "    }\n",
              "\n",
              "    .dataframe tbody tr th {\n",
              "        vertical-align: top;\n",
              "    }\n",
              "\n",
              "    .dataframe thead th {\n",
              "        text-align: right;\n",
              "    }\n",
              "</style>\n",
              "<table border=\"1\" class=\"dataframe\">\n",
              "  <thead>\n",
              "    <tr style=\"text-align: right;\">\n",
              "      <th></th>\n",
              "      <th>val_loss</th>\n",
              "      <th>val_acc</th>\n",
              "      <th>val_mean_squared_error</th>\n",
              "      <th>loss</th>\n",
              "      <th>acc</th>\n",
              "      <th>mean_squared_error</th>\n",
              "      <th>epoch</th>\n",
              "    </tr>\n",
              "  </thead>\n",
              "  <tbody>\n",
              "    <tr>\n",
              "      <th>82</th>\n",
              "      <td>0.076406</td>\n",
              "      <td>0.905926</td>\n",
              "      <td>0.076406</td>\n",
              "      <td>0.079206</td>\n",
              "      <td>0.900161</td>\n",
              "      <td>0.079206</td>\n",
              "      <td>82</td>\n",
              "    </tr>\n",
              "    <tr>\n",
              "      <th>83</th>\n",
              "      <td>0.076337</td>\n",
              "      <td>0.905926</td>\n",
              "      <td>0.076337</td>\n",
              "      <td>0.079185</td>\n",
              "      <td>0.900830</td>\n",
              "      <td>0.079185</td>\n",
              "      <td>83</td>\n",
              "    </tr>\n",
              "    <tr>\n",
              "      <th>84</th>\n",
              "      <td>0.076343</td>\n",
              "      <td>0.905926</td>\n",
              "      <td>0.076343</td>\n",
              "      <td>0.079132</td>\n",
              "      <td>0.900875</td>\n",
              "      <td>0.079132</td>\n",
              "      <td>84</td>\n",
              "    </tr>\n",
              "    <tr>\n",
              "      <th>85</th>\n",
              "      <td>0.076360</td>\n",
              "      <td>0.905391</td>\n",
              "      <td>0.076360</td>\n",
              "      <td>0.079156</td>\n",
              "      <td>0.900964</td>\n",
              "      <td>0.079156</td>\n",
              "      <td>85</td>\n",
              "    </tr>\n",
              "    <tr>\n",
              "      <th>86</th>\n",
              "      <td>0.076547</td>\n",
              "      <td>0.905391</td>\n",
              "      <td>0.076547</td>\n",
              "      <td>0.079103</td>\n",
              "      <td>0.900295</td>\n",
              "      <td>0.079103</td>\n",
              "      <td>86</td>\n",
              "    </tr>\n",
              "  </tbody>\n",
              "</table>\n",
              "</div>"
            ],
            "text/plain": [
              "    val_loss   val_acc  ...  mean_squared_error  epoch\n",
              "82  0.076406  0.905926  ...            0.079206     82\n",
              "83  0.076337  0.905926  ...            0.079185     83\n",
              "84  0.076343  0.905926  ...            0.079132     84\n",
              "85  0.076360  0.905391  ...            0.079156     85\n",
              "86  0.076547  0.905391  ...            0.079103     86\n",
              "\n",
              "[5 rows x 7 columns]"
            ]
          },
          "metadata": {
            "tags": []
          },
          "execution_count": 202
        }
      ]
    },
    {
      "cell_type": "code",
      "metadata": {
        "id": "zYQro-nKVVN_",
        "colab_type": "code",
        "colab": {
          "base_uri": "https://localhost:8080/",
          "height": 51
        },
        "outputId": "d8368ef6-aa9b-4bb2-a83d-f7ab15d20a43"
      },
      "source": [
        "#funcion para encontrar las coordenadas de un cierto umbral en la curva ROC\n",
        "\n",
        "def evaluate_threshold(threshold):\n",
        "  print( 'sensitivity:' , tpr[thresholds>threshold][-1])\n",
        "  print( 'specificity:' , 1-fpr[thresholds>threshold][-1])\n",
        "  \n",
        "evaluate_threshold(0.5)\n"
      ],
      "execution_count": 203,
      "outputs": [
        {
          "output_type": "stream",
          "text": [
            "sensitivity: 0.23220973782771537\n",
            "specificity: 0.9840348330914369\n"
          ],
          "name": "stdout"
        }
      ]
    }
  ]
}